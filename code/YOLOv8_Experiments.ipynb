{
  "nbformat": 4,
  "nbformat_minor": 0,
  "metadata": {
    "colab": {
      "provenance": [],
      "gpuType": "T4",
      "include_colab_link": true
    },
    "kernelspec": {
      "name": "python3",
      "display_name": "Python 3"
    },
    "language_info": {
      "name": "python"
    },
    "accelerator": "GPU"
  },
  "cells": [
    {
      "cell_type": "markdown",
      "metadata": {
        "id": "view-in-github",
        "colab_type": "text"
      },
      "source": [
        "<a href=\"https://colab.research.google.com/github/VedereArtificiala/prelucrareaimaginilor-proiect-itzyabois/blob/main/code/YOLOv8_Experiments.ipynb\" target=\"_parent\"><img src=\"https://colab.research.google.com/assets/colab-badge.svg\" alt=\"Open In Colab\"/></a>"
      ]
    },
    {
      "cell_type": "markdown",
      "source": [
        "Required packages"
      ],
      "metadata": {
        "id": "XWvBkHSsB6S-"
      }
    },
    {
      "cell_type": "markdown",
      "source": [
        "# New Section"
      ],
      "metadata": {
        "id": "EAZuQy82OHLT"
      }
    },
    {
      "cell_type": "code",
      "source": [
        "from google.colab import drive\n",
        "drive.mount('/content/drive')"
      ],
      "metadata": {
        "id": "hLa_512VOJNO"
      },
      "execution_count": null,
      "outputs": []
    },
    {
      "cell_type": "code",
      "execution_count": null,
      "metadata": {
        "id": "WJmv2888AP_3"
      },
      "outputs": [],
      "source": [
        "!pip install ultralytics"
      ]
    },
    {
      "cell_type": "code",
      "source": [],
      "metadata": {
        "id": "pCD_o-sjqoYl"
      },
      "execution_count": null,
      "outputs": []
    },
    {
      "cell_type": "code",
      "source": [
        "from google.colab import drive\n",
        "\n",
        "DRIVE_FOLDER = '/content/drive/My Drive/PI/Proiect'\n",
        "\n",
        "drive.mount('/content/drive')"
      ],
      "metadata": {
        "id": "33Ur6f_MGP_I"
      },
      "execution_count": null,
      "outputs": []
    },
    {
      "cell_type": "markdown",
      "source": [
        "https://www.freecodecamp.org/news/how-to-detect-objects-in-images-using-yolov8/"
      ],
      "metadata": {
        "id": "G6FwZMmrB9qu"
      }
    },
    {
      "cell_type": "code",
      "source": [
        "from ultralytics import YOLO\n",
        "\n",
        "\n",
        "model = YOLO('yolov8n.pt')\n",
        "\n",
        "results = model.predict(f'{DRIVE_FOLDER}/test_fata_facultatii.jpg')\n",
        "result = results[0]\n",
        "\n",
        "print(len(result.boxes))\n",
        "\n",
        "for box in result.boxes:\n",
        "  print(f'type={box.cls[0].item()}, coordinates={box.xyxy[0].tolist()}, confidence={box.conf[0].item()}')"
      ],
      "metadata": {
        "id": "7QmzF91CB4gM"
      },
      "execution_count": null,
      "outputs": []
    },
    {
      "cell_type": "code",
      "source": [
        "from ultralytics import YOLO\n",
        "\n",
        "model = YOLO(\"yolov8n.pt\")\n",
        "model.to('cuda')\n",
        "model.train(data=f\"/content/drive/MyDrive/Anul 3/pi/Proiect/Light/model-descriptor.yml\", epochs=30)\n",
        "results = model.predict(\"/content/drive/MyDrive/Anul 3/pi/Proiect/Light/test.jpg\")\n",
        "print(results)\n"
      ],
      "metadata": {
        "id": "LfamJOwsOlk2"
      },
      "execution_count": null,
      "outputs": []
    },
    {
      "cell_type": "code",
      "source": [
        "results = model.predict(\"/content/drive/MyDrive/Anul 3/pi/Proiect/Light/test.jpg\")"
      ],
      "metadata": {
        "id": "BIty-opDOnUL"
      },
      "execution_count": null,
      "outputs": []
    },
    {
      "cell_type": "code",
      "source": [
        "from ultralytics import YOLO\n",
        "import torch\n",
        "\n",
        "model = YOLO(\"yolov8n.pt\")\n",
        "model.to(\"cuda\")\n",
        "model.train(data=f\"/content/drive/MyDrive/Anul 3/pi/Proiect/segmentation/data.yaml\", epochs=30)\n",
        "torch.save(model.state_dict(), \"model.pt\")"
      ],
      "metadata": {
        "id": "lyup2ab7qpQp"
      },
      "execution_count": null,
      "outputs": []
    }
  ]
}